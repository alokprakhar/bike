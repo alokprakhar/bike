{
 "cells": [
  {
   "cell_type": "code",
   "execution_count": 7,
   "id": "9d5cf581",
   "metadata": {},
   "outputs": [],
   "source": [
    "import pandas as pd\n",
    "import numpy as np\n",
    "#import osmnx as ox\n",
    "import networkx as nx\n",
    "import time"
   ]
  },
  {
   "cell_type": "code",
   "execution_count": null,
   "id": "06e386b3",
   "metadata": {},
   "outputs": [],
   "source": []
  },
  {
   "cell_type": "code",
   "execution_count": 8,
   "id": "320fd4dd",
   "metadata": {},
   "outputs": [],
   "source": [
    "# Load data\n",
    "df = pd.read_csv(\"bike_data_new.csv\")"
   ]
  },
  {
   "cell_type": "code",
   "execution_count": 9,
   "id": "3f383b4b",
   "metadata": {},
   "outputs": [
    {
     "data": {
      "text/html": [
       "<div>\n",
       "<style scoped>\n",
       "    .dataframe tbody tr th:only-of-type {\n",
       "        vertical-align: middle;\n",
       "    }\n",
       "\n",
       "    .dataframe tbody tr th {\n",
       "        vertical-align: top;\n",
       "    }\n",
       "\n",
       "    .dataframe thead th {\n",
       "        text-align: right;\n",
       "    }\n",
       "</style>\n",
       "<table border=\"1\" class=\"dataframe\">\n",
       "  <thead>\n",
       "    <tr style=\"text-align: right;\">\n",
       "      <th></th>\n",
       "      <th>trip_id</th>\n",
       "      <th>started_at</th>\n",
       "      <th>ended_at</th>\n",
       "      <th>start_lat</th>\n",
       "      <th>start_lng</th>\n",
       "      <th>end_lat</th>\n",
       "      <th>end_lng</th>\n",
       "    </tr>\n",
       "  </thead>\n",
       "  <tbody>\n",
       "    <tr>\n",
       "      <th>0</th>\n",
       "      <td>1</td>\n",
       "      <td>01-02-2023 00:03</td>\n",
       "      <td>01-02-2023 00:13</td>\n",
       "      <td>38.905470</td>\n",
       "      <td>-77.002130</td>\n",
       "      <td>38.906299</td>\n",
       "      <td>-76.983221</td>\n",
       "    </tr>\n",
       "    <tr>\n",
       "      <th>1</th>\n",
       "      <td>2</td>\n",
       "      <td>01-02-2023 00:06</td>\n",
       "      <td>01-02-2023 00:19</td>\n",
       "      <td>38.907693</td>\n",
       "      <td>-77.071512</td>\n",
       "      <td>38.909858</td>\n",
       "      <td>-77.038566</td>\n",
       "    </tr>\n",
       "    <tr>\n",
       "      <th>2</th>\n",
       "      <td>3</td>\n",
       "      <td>01-02-2023 00:07</td>\n",
       "      <td>01-02-2023 00:14</td>\n",
       "      <td>38.915544</td>\n",
       "      <td>-77.038252</td>\n",
       "      <td>38.916137</td>\n",
       "      <td>-77.022003</td>\n",
       "    </tr>\n",
       "    <tr>\n",
       "      <th>3</th>\n",
       "      <td>4</td>\n",
       "      <td>01-02-2023 00:07</td>\n",
       "      <td>01-02-2023 00:26</td>\n",
       "      <td>38.909701</td>\n",
       "      <td>-77.085646</td>\n",
       "      <td>38.935839</td>\n",
       "      <td>-77.106913</td>\n",
       "    </tr>\n",
       "    <tr>\n",
       "      <th>4</th>\n",
       "      <td>5</td>\n",
       "      <td>01-02-2023 00:10</td>\n",
       "      <td>01-02-2023 00:20</td>\n",
       "      <td>38.905509</td>\n",
       "      <td>-77.065246</td>\n",
       "      <td>38.898302</td>\n",
       "      <td>-77.046913</td>\n",
       "    </tr>\n",
       "  </tbody>\n",
       "</table>\n",
       "</div>"
      ],
      "text/plain": [
       "   trip_id        started_at          ended_at  start_lat  start_lng   \n",
       "0        1  01-02-2023 00:03  01-02-2023 00:13  38.905470 -77.002130  \\\n",
       "1        2  01-02-2023 00:06  01-02-2023 00:19  38.907693 -77.071512   \n",
       "2        3  01-02-2023 00:07  01-02-2023 00:14  38.915544 -77.038252   \n",
       "3        4  01-02-2023 00:07  01-02-2023 00:26  38.909701 -77.085646   \n",
       "4        5  01-02-2023 00:10  01-02-2023 00:20  38.905509 -77.065246   \n",
       "\n",
       "     end_lat    end_lng  \n",
       "0  38.906299 -76.983221  \n",
       "1  38.909858 -77.038566  \n",
       "2  38.916137 -77.022003  \n",
       "3  38.935839 -77.106913  \n",
       "4  38.898302 -77.046913  "
      ]
     },
     "execution_count": 9,
     "metadata": {},
     "output_type": "execute_result"
    }
   ],
   "source": [
    "df.head()"
   ]
  },
  {
   "cell_type": "code",
   "execution_count": 10,
   "id": "21f7a2a5",
   "metadata": {},
   "outputs": [
    {
     "name": "stdout",
     "output_type": "stream",
     "text": [
      "Maximum duration of the trip: 518.0 minutes\n",
      "Minimum duration of the trip: 1.0 minutes\n",
      "Total number of trips corresponding to the minimum duration: 89\n",
      "Percentage of total circular trips: 2.95 %\n"
     ]
    }
   ],
   "source": [
    "# Remove trips of duration 0 minutes\n",
    "df = df[df['started_at'] != df['ended_at']]\n",
    "\n",
    "# Calculate duration in minutes\n",
    "df['duration'] = (pd.to_datetime(df['ended_at']) - pd.to_datetime(df['started_at'])).dt.seconds / 60\n",
    "\n",
    "# Print the required values\n",
    "print('Maximum duration of the trip:', df['duration'].max(), 'minutes')\n",
    "print('Minimum duration of the trip:', df['duration'].min(), 'minutes')\n",
    "print('Total number of trips corresponding to the minimum duration:', len(df[df['duration'] == df['duration'].min()]))\n",
    "print('Percentage of total circular trips:', round((len(df[df['start_lat'] == df['end_lat']]) / len(df)) * 100, 2), '%')"
   ]
  },
  {
   "cell_type": "code",
   "execution_count": 11,
   "id": "c31a7c72",
   "metadata": {},
   "outputs": [
    {
     "name": "stdout",
     "output_type": "stream",
     "text": [
      "Total feasible pairs of trips: 54390\n"
     ]
    }
   ],
   "source": [
    "# Convert start time to datetime\n",
    "df['started_at'] = pd.to_datetime(df['started_at'])\n",
    "\n",
    "# Filter the dataframe to include only trips starting between 06:00 AM and 06:00 PM\n",
    "df = df[(df['started_at'].dt.hour >= 6) & (df['started_at'].dt.hour < 18)]\n",
    "\n",
    "# Sort the dataframe by start time\n",
    "df = df.sort_values('started_at')\n",
    "\n",
    "# Create a dictionary of end locations and their corresponding start times\n",
    "end_locations = {}\n",
    "for index, row in df.iterrows():\n",
    "    end_loc = (row['end_lat'], row['end_lng'])\n",
    "    start_time = row['started_at']\n",
    "    if end_loc in end_locations:\n",
    "        end_locations[end_loc].append(start_time)\n",
    "    else:\n",
    "        end_locations[end_loc] = [start_time]\n",
    "\n",
    "# Count the number of feasible pairs of trips\n",
    "feasible_pairs = 0\n",
    "for index, row in df.iterrows():\n",
    "    end_loc = (row['end_lat'], row['end_lng'])\n",
    "    start_time = row['started_at']\n",
    "    if end_loc in end_locations:\n",
    "        for time in end_locations[end_loc]:\n",
    "            if time > start_time:\n",
    "                feasible_pairs += 1\n",
    "\n",
    "# Print the total feasible pairs of trips and runtime\n",
    "print('Total feasible pairs of trips:', feasible_pairs)\n"
   ]
  },
  {
   "cell_type": "code",
   "execution_count": 16,
   "id": "3399c4eb",
   "metadata": {},
   "outputs": [
    {
     "ename": "ModuleNotFoundError",
     "evalue": "No module named 'osmnx'",
     "output_type": "error",
     "traceback": [
      "\u001b[1;31m---------------------------------------------------------------------------\u001b[0m",
      "\u001b[1;31mModuleNotFoundError\u001b[0m                       Traceback (most recent call last)",
      "\u001b[1;32m~\\AppData\\Local\\Temp\\ipykernel_17460\\3375203172.py\u001b[0m in \u001b[0;36m<module>\u001b[1;34m\u001b[0m\n\u001b[1;32m----> 1\u001b[1;33m \u001b[1;32mimport\u001b[0m \u001b[0mosmnx\u001b[0m \u001b[1;32mas\u001b[0m \u001b[0mox\u001b[0m\u001b[1;33m\u001b[0m\u001b[1;33m\u001b[0m\u001b[0m\n\u001b[0m\u001b[0;32m      2\u001b[0m \u001b[1;32mimport\u001b[0m \u001b[0mnetworkx\u001b[0m \u001b[1;32mas\u001b[0m \u001b[0mnx\u001b[0m\u001b[1;33m\u001b[0m\u001b[1;33m\u001b[0m\u001b[0m\n\u001b[0;32m      3\u001b[0m \u001b[1;33m\u001b[0m\u001b[0m\n\u001b[0;32m      4\u001b[0m \u001b[0mgraph\u001b[0m \u001b[1;33m=\u001b[0m \u001b[0mox\u001b[0m\u001b[1;33m.\u001b[0m\u001b[0mgraph_from_place\u001b[0m\u001b[1;33m(\u001b[0m\u001b[1;34m'City Name, Country Name'\u001b[0m\u001b[1;33m,\u001b[0m \u001b[0mnetwork_type\u001b[0m\u001b[1;33m=\u001b[0m\u001b[1;34m'walk'\u001b[0m\u001b[1;33m)\u001b[0m\u001b[1;33m\u001b[0m\u001b[1;33m\u001b[0m\u001b[0m\n\u001b[0;32m      5\u001b[0m \u001b[0mnx\u001b[0m\u001b[1;33m.\u001b[0m\u001b[0mwrite_gpickle\u001b[0m\u001b[1;33m(\u001b[0m\u001b[0mgraph\u001b[0m\u001b[1;33m,\u001b[0m \u001b[1;34m'graph.pkl'\u001b[0m\u001b[1;33m)\u001b[0m\u001b[1;33m\u001b[0m\u001b[1;33m\u001b[0m\u001b[0m\n",
      "\u001b[1;31mModuleNotFoundError\u001b[0m: No module named 'osmnx'"
     ]
    }
   ],
   "source": [
    "import osmnx as ox\n",
    "import networkx as nx\n",
    "\n",
    "graph = ox.graph_from_place('City Name, Country Name', network_type='walk')\n",
    "nx.write_gpickle(graph, 'graph.pkl')"
   ]
  },
  {
   "cell_type": "code",
   "execution_count": null,
   "id": "d0529d23",
   "metadata": {},
   "outputs": [],
   "source": []
  }
 ],
 "metadata": {
  "kernelspec": {
   "display_name": "Python 3 (ipykernel)",
   "language": "python",
   "name": "python3"
  },
  "language_info": {
   "codemirror_mode": {
    "name": "ipython",
    "version": 3
   },
   "file_extension": ".py",
   "mimetype": "text/x-python",
   "name": "python",
   "nbconvert_exporter": "python",
   "pygments_lexer": "ipython3",
   "version": "3.9.13"
  }
 },
 "nbformat": 4,
 "nbformat_minor": 5
}
